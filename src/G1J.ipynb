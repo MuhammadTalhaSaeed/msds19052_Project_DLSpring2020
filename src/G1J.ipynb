{
 "cells": [
  {
   "cell_type": "code",
   "execution_count": 1,
   "metadata": {},
   "outputs": [],
   "source": [
    "import torch\n",
    "import torch.nn as nn\n",
    "import torch.optim as optim\n",
    "from torch.optim import lr_scheduler\n",
    "from torch.autograd import Variable\n",
    "import numpy as np\n",
    "import torchvision\n",
    "from torchvision import datasets, models, transforms\n",
    "import matplotlib.pyplot as plt\n",
    "import time\n",
    "import os, glob\n",
    "import copy\n",
    "from sklearn.metrics import f1_score\n",
    "from sklearn.metrics import accuracy_score\n",
    "from gpuinfo import GPUInfo as gpu\n",
    "import pickle as pk\n",
    "from sklearn.metrics import confusion_matrix, multilabel_confusion_matrix, accuracy_score\n",
    "from sklearn.model_selection import train_test_split\n",
    "import pandas as pd\n",
    "import xml.etree.ElementTree as ET\n",
    "from PIL import Image\n",
    "from matplotlib import cm\n",
    "from sklearn import preprocessing\n",
    "import cv2\n",
    "from IPython.display import clear_output\n",
    "from sys import getsizeof\n",
    "from PIL import Image\n",
    "import shutil\n",
    "import sys\n",
    "import math\n",
    "import ctcdecode"
   ]
  },
  {
   "cell_type": "code",
   "execution_count": 2,
   "metadata": {},
   "outputs": [],
   "source": [
    "class dataLoader():\n",
    "    \n",
    "    def __init__(self, directory, batch_size):\n",
    "        self.directory = directory\n",
    "        self.batch_size = batch_size\n",
    "        self.pwd = os.getcwd()\n",
    "        self.getFileList()\n",
    "        self.getBatches()\n",
    "        self.currentbatch = 0\n",
    "        \n",
    "    def getFileList(self):\n",
    "        filenames = []\n",
    "        os.chdir(self.directory)\n",
    "        for f in glob.glob(\"*.xml\"):\n",
    "            tree = ET.parse(f)\n",
    "            root = tree.getroot()\n",
    "            name = root.findall('filename')\n",
    "            filenames.append(name[0].text)\n",
    "        self.filenames = filenames\n",
    "        return\n",
    "\n",
    "    def getBatches(self):\n",
    "        batch_size = self.batch_size\n",
    "        total = len(self.filenames)\n",
    "        batches = []\n",
    "        for i in range(0, total, batch_size):\n",
    "            batch = self.filenames[i: i + batch_size]\n",
    "            batches.append(batch)\n",
    "        os.chdir(self.pwd)\n",
    "        self.batches = batches\n",
    "        return\n",
    "    \n",
    "    def hasNext(self):\n",
    "        if self.currentbatch < len(self.batches):\n",
    "            return True\n",
    "        else:\n",
    "            self.reInitialize()\n",
    "            os.chdir(self.pwd)\n",
    "            return False\n",
    "        \n",
    "    def reInitialize(self):\n",
    "        self.currentbatch = 0\n",
    "        return\n",
    "    \n",
    "    def processedDataStatus(self):\n",
    "        return int(self.currentbatch*self.batch_size/len(self.filenames)*100)\n",
    "    \n",
    "    def next(self):\n",
    "        \n",
    "        if self.currentbatch < len(self.batches):\n",
    "            data, labels = self.readData(self.batches[self.currentbatch])\n",
    "            self.currentbatch = self.currentbatch + 1\n",
    "            return data, labels, self.currentbatch - 1\n",
    "        else:\n",
    "            print('epoch complete', self.pwd)\n",
    "            os.chdir(self.pwd)\n",
    "            return False\n",
    "        \n",
    "    def readData(self, batch):\n",
    "        data = []\n",
    "        labels = []\n",
    "        os.chdir(self.directory)\n",
    "        trans = transforms.Compose([transforms.ToTensor()])\n",
    "        \n",
    "        for filename in batch:\n",
    "            img  = cv2.imread(filename+'.jpg')\n",
    "            img = cv2.resize(img, (1500, 112))\n",
    "            #img = cv2.flip(img, 1)\n",
    "            #gray = cv2.cvtColor(img, cv2.COLOR_BGR2GRAY)\n",
    "            img_pil = Image.fromarray(img)\n",
    "            img = trans(img_pil)\n",
    "            tree = ET.parse(filename+'.xml')\n",
    "            root = tree.getroot()\n",
    "            name = root.findall('object/name')\n",
    "            label = name[0].text\n",
    "            if type(label) == str:\n",
    "                labels.append(label)\n",
    "                data.append(img)\n",
    "        return torch.stack(data), labels\n",
    "\n",
    "dataloader = dataLoader('/home/talha/MSDS/Deep Learning Project/data/test', 5)"
   ]
  },
  {
   "cell_type": "code",
   "execution_count": 4,
   "metadata": {},
   "outputs": [],
   "source": [
    "class Net(nn.Module):   \n",
    "    def __init__(self):\n",
    "        super(Net, self).__init__()\n",
    "        \n",
    "        self.device = torch.device(\"cuda:0\" if torch.cuda.is_available() else \"cpu\")\n",
    "        self.cnn = nn.Sequential(\n",
    "            \n",
    "            #\"\"\"CONV 1\"\"\"\n",
    "            nn.Conv2d(3, 64, kernel_size=3, stride=1, padding=1),\n",
    "            nn.ReLU(inplace=True),\n",
    "            nn.MaxPool2d(kernel_size=2, stride=2),\n",
    "            \n",
    "            #\"\"\"CONV 2\"\"\" \n",
    "            nn.Conv2d(64, 128, kernel_size=3, stride=1, padding=1),\n",
    "            nn.ReLU(inplace=True),\n",
    "            nn.MaxPool2d(kernel_size=2, stride=2),\n",
    "            \n",
    "            #\"\"\"CONV 3\"\"\" \n",
    "            nn.Conv2d(128, 256, kernel_size=3, stride=1, padding=1),\n",
    "            nn.ReLU(inplace=True),\n",
    "            \n",
    "            #\"\"\"CONV 4\"\"\" \n",
    "            nn.Conv2d(256, 256, kernel_size=3, stride=1, padding=1),\n",
    "            nn.ReLU(inplace=True),\n",
    "            nn.MaxPool2d(kernel_size=(2,1), stride=2),\n",
    "            \n",
    "            #\"\"\"CONV 5\"\"\" \n",
    "            nn.Conv2d(256, 512, kernel_size=3, stride=1, padding=1),\n",
    "            nn.ReLU(inplace=True),\n",
    "            #nn.MaxPool2d(kernel_size=2, stride=2),\n",
    "            nn.BatchNorm2d(512),            \n",
    "            \n",
    "            #\"\"\"CONV 6\"\"\" \n",
    "            nn.Conv2d(512, 512, kernel_size=3, stride=1, padding=1),\n",
    "            nn.ReLU(inplace=True),\n",
    "            nn.BatchNorm2d(512),\n",
    "            nn.MaxPool2d(kernel_size=(2,1), stride=2),\n",
    "            \n",
    "            #\"\"\"CONV 7\"\"\" \n",
    "            nn.Conv2d(512, 512, kernel_size=3, stride=1, padding=1),\n",
    "            nn.ReLU(inplace=True),\n",
    "            \n",
    "        )\n",
    "\n",
    "        self.lstm1 = nn.LSTM(input_size = 14, num_layers = 1, hidden_size = 22, bidirectional = True, batch_first = True)\n",
    "        self.output = nn.LogSoftmax(2)\n",
    "\n",
    "    # Defining the forward pass    \n",
    "    def forward(self, x):\n",
    "        x = self.cnn(x)\n",
    "        \n",
    "        tt = []\n",
    "        for t in x:\n",
    "            t1 = t.mean(dim = 0)\n",
    "            tt.append(t1.transpose(0,1))\n",
    "        \n",
    "        x = torch.stack(tt, 0)\n",
    "        x = self.lstm1(x)\n",
    "        s = self.output(x[0])\n",
    "        \n",
    "        return x,s\n",
    "    "
   ]
  },
  {
   "cell_type": "code",
   "execution_count": 5,
   "metadata": {},
   "outputs": [],
   "source": [
    "class ctcLoss(nn.Module):\n",
    "    def __init__(self):\n",
    "        super(ctcLoss, self).__init__()\n",
    "        self.criterion = nn.CTCLoss()\n",
    "        self.charlist = self.getCharList()\n",
    "        \n",
    "    def getCharList(self):\n",
    "        f = open('/home/talha/MSDS/Deep Learning Project/charList.txt', 'r')\n",
    "        lis = f.read().split()\n",
    "        lis.append(' ')\n",
    "        return lis\n",
    "    \n",
    "    def mapLabels(self, labels):\n",
    "        labelmapping = []\n",
    "        label_length = []\n",
    "        for label in labels:\n",
    "            c= []\n",
    "            if type(label) == str:\n",
    "                for char in label:\n",
    "                    c.append(self.charlist.index(char)) if char in self.charlist else c.append(1)\n",
    "\n",
    "                labelmapping.append(torch.tensor(c))\n",
    "                label_length.append(len(c))\n",
    "            else:\n",
    "                print('*****************',label)\n",
    "                print(labels)\n",
    "                print(type(label))\n",
    "        return labelmapping, label_length\n",
    "    \n",
    "    def forward(self, x, target, dire= True):\n",
    "        labelmap, label_length = self.mapLabels(target)\n",
    "#         print(x.shape)\n",
    "        x = x.reshape(x.shape[1], x.shape[0], x.shape[2])\n",
    "        input_length = [x.shape[0]] * x.shape[1]\n",
    "        labelmapping = torch.cat(labelmap)\n",
    "        return self.criterion(x, labelmapping, torch.tensor(input_length), torch.tensor(label_length)), labelmap\n"
   ]
  },
  {
   "cell_type": "code",
   "execution_count": 6,
   "metadata": {
    "scrolled": false
   },
   "outputs": [
    {
     "data": {
      "text/plain": [
       "<All keys matched successfully>"
      ]
     },
     "execution_count": 6,
     "metadata": {},
     "output_type": "execute_result"
    }
   ],
   "source": [
    "model = Net()\n",
    "model.to('cuda:0')\n",
    "optimizer = optim.SGD(model.parameters(), 0.001, momentum= 0.9)\n",
    "schedular = optim.lr_scheduler.ReduceLROnPlateau(optimizer, mode='min', factor=0.1, patience=5, verbose=False, threshold=0.0001, threshold_mode='rel', cooldown=0, min_lr=0, eps=1e-08)\n",
    "model.train()\n",
    "model.load_state_dict(torch.load('/home/talha/MSDS/Deep Learning Project/model50.pth'))"
   ]
  },
  {
   "cell_type": "code",
   "execution_count": 7,
   "metadata": {
    "scrolled": true
   },
   "outputs": [],
   "source": [
    "def binary_accuracy(preds, y):\n",
    "    preds = list(preds.cpu().detach().numpy())\n",
    "    y = list(y.cpu().detach().numpy())\n",
    "    if len(y) < len(preds):\n",
    "        preds = preds[:len(y)]\n",
    "    elif len(preds) < len(y):\n",
    "        y = y[:len(preds)]\n",
    "    correct = 0\n",
    "    for i in range(len(y)):\n",
    "        if y[i] in preds:\n",
    "            correct = correct + 1\n",
    "    return correct/len(y)*100\n",
    "\n",
    "\n",
    "def train(epochs):\n",
    "    criterion = ctcLoss()\n",
    "    criterion.to('cuda:0')\n",
    "    last_five_loss = []\n",
    "    epoch_loss = []\n",
    "    epoch_accuracy = []\n",
    "    for i in range(epochs):\n",
    "        loss_val = []\n",
    "        accuracy_val = []\n",
    "\n",
    "        while dataloader.hasNext():\n",
    "            optimizer.zero_grad()\n",
    "            data, labels, currentbatch = dataloader.next()\n",
    "            data = data.to('cuda:0')\n",
    "            x,s = model(data)\n",
    "#             print(s.shape)\n",
    "            loss,labelmapping = criterion(s, labels)\n",
    "#             return x,s\n",
    "\n",
    "            decoder = ctcdecode.CTCBeamDecoder(criterion.charlist, beam_width=30,\n",
    "                                           blank_id=criterion.charlist.index('_'), log_probs_input=False,\n",
    "                                           num_processes=24)\n",
    "            beam_results, beam_scores, timesteps, out_seq_len = decoder.decode(s)\n",
    "\n",
    "            acc = []\n",
    "            for z in range(len(beam_results)):\n",
    "                acc.append(binary_accuracy(beam_results[z][0], labelmapping[z]))\n",
    "            ac = int(np.mean(acc))\n",
    "            accuracy_val.append(ac)\n",
    "        \n",
    "            sys.stdout.write(\"Epoch: {0}/{1}  {2} {3}% Batch: {4} Loss: {5} Accuracy:{6} \\r\".format(\n",
    "                    i+1,\n",
    "                    epochs,\n",
    "                    '=' * int((dataloader.processedDataStatus()+1)/4)+'>'+ ' ' * (int((100 - dataloader.processedDataStatus())/4)), \n",
    "                    dataloader.processedDataStatus(),\n",
    "                    currentbatch, \n",
    "                    loss.item(),\n",
    "                    ac\n",
    "                    )\n",
    "                )\n",
    "            if not math.isinf(loss.item()):\n",
    "                loss_val.append(loss.item())\n",
    "                loss.backward()\n",
    "                optimizer.step()\n",
    "        \n",
    "        avg_epoch_loss = np.mean(loss_val)\n",
    "        avg_epoch_accuracy = np.mean(accuracy_val)\n",
    "        print('\\nAverage Loss:', avg_epoch_loss, 'Average Accuracy:', avg_epoch_accuracy)\n",
    "        epoch_loss.append(avg_epoch_loss)\n",
    "        epoch_accuracy.append(avg_epoch_accuracy)\n",
    "        print('\\n')\n",
    "    return epoch_loss, epoch_accuracy\n",
    "\n",
    "# loss, accuracy = train(500)\n",
    "\n",
    "# torch.save(model.state_dict(), '/home/talha/MSDS/Deep Learning Project/model.pth')"
   ]
  },
  {
   "cell_type": "code",
   "execution_count": 8,
   "metadata": {
    "scrolled": true
   },
   "outputs": [
    {
     "name": "stdout",
     "output_type": "stream",
     "text": [
      "Epoch: 1/25  =========================> 100% Batch: 106 Loss: 9.804289817810059 Accuracy:27 \n",
      "Average Loss: 13.27852612343904 Average Accuracy: 36.21495327102804\n",
      "\n",
      "\n",
      "Epoch: 2/25  =========================> 100% Batch: 106 Loss: 9.804288864135742 Accuracy:17 \n",
      "Average Loss: 13.27847172835163 Average Accuracy: 35.76635514018692\n",
      "\n",
      "\n",
      "Epoch: 3/25  =========================> 100% Batch: 106 Loss: 9.804287910461426 Accuracy:29 \n",
      "Average Loss: 13.278449486349231 Average Accuracy: 36.05607476635514\n",
      "\n",
      "\n",
      "Epoch: 4/25  =========================> 100% Batch: 106 Loss: 9.80428695678711 Accuracy:40  \n",
      "Average Loss: 13.278426834356004 Average Accuracy: 36.074766355140184\n",
      "\n",
      "\n",
      "Epoch: 5/25  =========================> 100% Batch: 106 Loss: 9.804285049438477 Accuracy:39 \n",
      "Average Loss: 13.278405479181593 Average Accuracy: 35.981308411214954\n",
      "\n",
      "\n",
      "Epoch: 6/25  =========================> 100% Batch: 106 Loss: 9.80428409576416 Accuracy:30  \n",
      "Average Loss: 13.278385710493426 Average Accuracy: 35.205607476635514\n",
      "\n",
      "\n",
      "Epoch: 7/25  =========================> 100% Batch: 106 Loss: 9.804283142089844 Accuracy:35 \n",
      "Average Loss: 13.27836675287407 Average Accuracy: 35.83177570093458\n",
      "\n",
      "\n",
      "Epoch: 8/25  =========================> 100% Batch: 106 Loss: 9.804282188415527 Accuracy:38 \n",
      "Average Loss: 13.278347581346459 Average Accuracy: 35.91588785046729\n",
      "\n",
      "\n",
      "Epoch: 9/25  =========================> 100% Batch: 106 Loss: 9.804280281066895 Accuracy:30 \n",
      "Average Loss: 13.278328868830316 Average Accuracy: 36.60747663551402\n",
      "\n",
      "\n",
      "Epoch: 10/25  =========================> 100% Batch: 106 Loss: 9.804278373718262 Accuracy:30 \n",
      "Average Loss: 13.278309643825638 Average Accuracy: 36.60747663551402\n",
      "\n",
      "\n",
      "Epoch: 11/25  =========================> 100% Batch: 106 Loss: 9.804277420043945 Accuracy:35 \n",
      "Average Loss: 13.278289964265912 Average Accuracy: 36.99065420560748\n",
      "\n",
      "\n",
      "Epoch: 12/25  =========================> 100% Batch: 106 Loss: 9.80427360534668 Accuracy:31  \n",
      "Average Loss: 13.278269669719945 Average Accuracy: 36.5607476635514\n",
      "\n",
      "\n",
      "Epoch: 13/25  =========================> 100% Batch: 106 Loss: 9.804269790649414 Accuracy:32 \n",
      "Average Loss: 13.278248470520305 Average Accuracy: 37.3177570093458\n",
      "\n",
      "\n",
      "Epoch: 14/25  =========================> 100% Batch: 106 Loss: 9.804265022277832 Accuracy:35 \n",
      "Average Loss: 13.278226068086713 Average Accuracy: 35.467289719626166\n",
      "\n",
      "\n",
      "Epoch: 15/25  =========================> 100% Batch: 106 Loss: 9.8042573928833 Accuracy:27   \n",
      "Average Loss: 13.27820027431595 Average Accuracy: 36.61682242990654\n",
      "\n",
      "\n",
      "Epoch: 16/25  =========================> 100% Batch: 106 Loss: 9.804250717163086 Accuracy:33 \n",
      "Average Loss: 13.27817319709564 Average Accuracy: 36.05607476635514\n",
      "\n",
      "\n",
      "Epoch: 17/25  =========================> 100% Batch: 106 Loss: 9.80423641204834 Accuracy:20  \n",
      "Average Loss: 13.27814227843953 Average Accuracy: 36.91588785046729\n",
      "\n",
      "\n",
      "Epoch: 18/25  =========================> 100% Batch: 106 Loss: 9.804208755493164 Accuracy:35 \n",
      "Average Loss: 13.278094086691597 Average Accuracy: 35.88785046728972\n",
      "\n",
      "\n",
      "Epoch: 19/25  =========================> 100% Batch: 106 Loss: 9.804046630859375 Accuracy:30 \n",
      "Average Loss: 13.277959961757482 Average Accuracy: 35.87850467289719\n",
      "\n",
      "\n",
      "Epoch: 20/25  =========================> 100% Batch: 106 Loss: 9.781661987304688 Accuracy:27 \n",
      "Average Loss: 13.268972374568476 Average Accuracy: 35.11214953271028\n",
      "\n",
      "\n",
      "Epoch: 21/25  =========================> 100% Batch: 106 Loss: 9.781660079956055 Accuracy:28 \n",
      "Average Loss: 13.251606455473143 Average Accuracy: 27.429906542056074\n",
      "\n",
      "\n",
      "Epoch: 22/25  =========================> 100% Batch: 106 Loss: 9.781660079956055 Accuracy:21 \n",
      "Average Loss: 13.251598634452463 Average Accuracy: 27.364485981308412\n",
      "\n",
      "\n",
      "Epoch: 23/25  =========================> 100% Batch: 106 Loss: 9.781660079956055 Accuracy:25 \n",
      "Average Loss: 13.25159198547078 Average Accuracy: 26.57943925233645\n",
      "\n",
      "\n",
      "Epoch: 24/25  =========================> 100% Batch: 106 Loss: 9.781659126281738 Accuracy:30 \n",
      "Average Loss: 13.251585924736807 Average Accuracy: 26.149532710280372\n",
      "\n",
      "\n",
      "Epoch: 25/25  =========================> 100% Batch: 106 Loss: 9.781658172607422 Accuracy:21 \n",
      "Average Loss: 13.251580639420268 Average Accuracy: 25.233644859813083\n",
      "\n",
      "\n"
     ]
    }
   ],
   "source": [
    "loss, accuracy = train(25)\n",
    "# torch.save(model.state_dict(), '/home/talha/MSDS/Deep Learning Project/model50.pth')"
   ]
  },
  {
   "cell_type": "code",
   "execution_count": null,
   "metadata": {},
   "outputs": [],
   "source": []
  },
  {
   "cell_type": "code",
   "execution_count": 9,
   "metadata": {},
   "outputs": [
    {
     "data": {
      "text/plain": [
       "[<matplotlib.lines.Line2D at 0x7f6ec6e7bb70>]"
      ]
     },
     "execution_count": 9,
     "metadata": {},
     "output_type": "execute_result"
    },
    {
     "data": {
      "image/png": "[encoded data removed]",
      "text/plain": [
       "<Figure size 432x288 with 1 Axes>"
      ]
     },
     "metadata": {
      "needs_background": "light"
     },
     "output_type": "display_data"
    }
   ],
   "source": [
    "plt.plot(loss[:35], label = 'Loss')\n",
    "plt.plot(accuracy[:35], label = 'Accuracy')"
   ]
  },
  {
   "cell_type": "code",
   "execution_count": null,
   "metadata": {
    "scrolled": true
   },
   "outputs": [
    {
     "name": "stdout",
     "output_type": "stream",
     "text": [
      "Epoch: 1/500  =========================> 100% Batch: 215 Loss: inf Accuracy:37  Accuracy:23  \n",
      "Average Loss: 10.676752903522589 Average Accuracy: 18.893023255813954\n",
      "\n",
      "\n",
      "Epoch: 2/500  =========================> 100% Batch: 215 Loss: inf Accuracy:25 Accuracy:15   \n",
      "Average Loss: 10.431845165028864 Average Accuracy: 14.851851851851851\n",
      "\n",
      "\n",
      "Epoch: 3/500  =========================> 100% Batch: 215 Loss: inf Accuracy:20  Accuracy:17  \n",
      "Average Loss: 10.197755549635206 Average Accuracy: 16.73611111111111\n",
      "\n",
      "\n",
      "Epoch: 4/500  =========================> 100% Batch: 215 Loss: inf Accuracy:12  Accuracy:9   \n",
      "Average Loss: 9.944318305472938 Average Accuracy: 10.805555555555555\n",
      "\n",
      "\n",
      "Epoch: 5/500  =========================> 100% Batch: 215 Loss: inf Accuracy:7 3 Accuracy:7  \n",
      "Average Loss: 9.691379777022771 Average Accuracy: 5.75\n",
      "\n",
      "\n",
      "Epoch: 6/500  =========================> 100% Batch: 215 Loss: inf Accuracy:4 9 Accuracy:7  \n",
      "Average Loss: 9.474025167980972 Average Accuracy: 5.50462962962963\n",
      "\n",
      "\n",
      "Epoch: 7/500  =========================> 100% Batch: 215 Loss: inf Accuracy:9 7 Accuracy:12  \n",
      "Average Loss: 9.306627419530129 Average Accuracy: 8.291666666666666\n",
      "\n",
      "\n",
      "Epoch: 8/500  =========================> 100% Batch: 215 Loss: inf Accuracy:12  Accuracy:8   \n",
      "Average Loss: 9.181449561702962 Average Accuracy: 9.518518518518519\n",
      "\n",
      "\n",
      "Epoch: 9/500  =========================> 100% Batch: 215 Loss: inf Accuracy:14  Accuracy:12  \n",
      "Average Loss: 9.085497184675567 Average Accuracy: 8.976851851851851\n",
      "\n",
      "\n",
      "Epoch: 10/500  =========================> 100% Batch: 215 Loss: inf Accuracy:15 Accuracy:15 4 \n",
      "Average Loss: 9.008606027583687 Average Accuracy: 10.726851851851851\n",
      "\n",
      "\n",
      "Epoch: 11/500  =========================> 100% Batch: 215 Loss: inf Accuracy:15  Accuracy:13  \n",
      "Average Loss: 8.944111260832573 Average Accuracy: 13.944444444444445\n",
      "\n",
      "\n",
      "Epoch: 12/500  =========================> 100% Batch: 215 Loss: inf Accuracy:9 1 Accuracy:8   \n",
      "Average Loss: 8.887838598416776 Average Accuracy: 11.49537037037037\n",
      "\n",
      "\n",
      "Epoch: 13/500  =========================> 100% Batch: 215 Loss: inf Accuracy:7 25 Accuracy:8  \n",
      "Average Loss: 8.837112757624412 Average Accuracy: 8.12037037037037\n",
      "\n",
      "\n",
      "Epoch: 14/500  =========================> 100% Batch: 215 Loss: inf Accuracy:19  Accuracy:14  \n",
      "Average Loss: 8.790171035698481 Average Accuracy: 12.12962962962963\n",
      "\n",
      "\n",
      "Epoch: 15/500  =========================> 100% Batch: 215 Loss: inf Accuracy:15  Accuracy:11  \n",
      "Average Loss: 8.745835140043376 Average Accuracy: 12.61111111111111\n",
      "\n",
      "\n",
      "Epoch: 16/500  =========================> 100% Batch: 215 Loss: inf Accuracy:14  Accuracy:11  \n",
      "Average Loss: 8.703303481851306 Average Accuracy: 11.467592592592593\n",
      "\n",
      "\n",
      "Epoch: 17/500  =========================> 100% Batch: 215 Loss: inf Accuracy:14  Accuracy:8 0 \n",
      "Average Loss: 8.66207723228299 Average Accuracy: 9.74074074074074\n",
      "\n",
      "\n",
      "Epoch: 18/500  =========================> 100% Batch: 215 Loss: inf Accuracy:17  Accuracy:10  \n",
      "Average Loss: 8.62187342254483 Average Accuracy: 9.37037037037037\n",
      "\n",
      "\n",
      "Epoch: 19/500  =========================> 100% Batch: 215 Loss: inf Accuracy:18  Accuracy:9 4 \n",
      "Average Loss: 8.582530809908498 Average Accuracy: 12.157407407407407\n",
      "\n",
      "\n",
      "Epoch: 20/500  =========================> 100% Batch: 215 Loss: inf Accuracy:13  Accuracy:7   \n",
      "Average Loss: 8.543954731250295 Average Accuracy: 9.574074074074074\n",
      "\n",
      "\n",
      "Epoch: 21/500  =========================> 100% Batch: 215 Loss: inf Accuracy:12  Accuracy:6   \n",
      "Average Loss: 8.506114458551211 Average Accuracy: 6.712962962962963\n",
      "\n",
      "\n",
      "Epoch: 22/500  =========================> 100% Batch: 215 Loss: inf Accuracy:15  Accuracy:3   \n",
      "Average Loss: 8.468941216566124 Average Accuracy: 6.185185185185185\n",
      "\n",
      "\n",
      "Epoch: 23/500  =========================> 100% Batch: 215 Loss: inf Accuracy:14  Accuracy:8   \n",
      "Average Loss: 8.432373801056219 Average Accuracy: 10.282407407407407\n",
      "\n",
      "\n",
      "Epoch: 24/500  =========================> 100% Batch: 215 Loss: inf Accuracy:14  Accuracy:9   \n",
      "Average Loss: 8.396354621770431 Average Accuracy: 10.00462962962963\n",
      "\n",
      "\n",
      "Epoch: 25/500  >                         2% Batch: 5 Loss: 3.793058395385742 Accuracy:11 0 \r"
     ]
    }
   ],
   "source": [
    "loss2, accuracy2 = train(500)"
   ]
  },
  {
   "cell_type": "code",
   "execution_count": 10,
   "metadata": {},
   "outputs": [],
   "source": [
    "pk.dump(loss, open('val_loss.pkl', 'wb'))\n",
    "pk.dump(accuracy, open('val_accuracy.pkl', 'wb'))"
   ]
  },
  {
   "cell_type": "code",
   "execution_count": 14,
   "metadata": {},
   "outputs": [],
   "source": [
    "a1 = pk.load(open('accuracy1.pkl', 'rb'))\n",
    "l1 = pk.load(open('loss1.pkl', 'rb'))\n",
    "a10 = pk.load(open('accuracy10.pkl', 'rb'))\n",
    "l10 = pk.load(open('loss10.pkl', 'rb'))\n",
    "a50 = pk.load(open('accuracy50.pkl', 'rb'))\n",
    "l50 = pk.load(open('loss50.pkl', 'rb'))"
   ]
  },
  {
   "cell_type": "code",
   "execution_count": 16,
   "metadata": {},
   "outputs": [
    {
     "data": {
      "text/plain": [
       "<matplotlib.legend.Legend at 0x7f74200de828>"
      ]
     },
     "execution_count": 16,
     "metadata": {},
     "output_type": "execute_result"
    },
    {
     "data": {
      "image/png": "[encoded data removed]",
      "text/plain": [
       "<Figure size 432x288 with 1 Axes>"
      ]
     },
     "metadata": {
      "needs_background": "light"
     },
     "output_type": "display_data"
    }
   ],
   "source": [
    "plt.plot(a1, label = 'Loss')\n",
    "plt.plot(l1, label = 'Accuracy')\n",
    "plt.legend()"
   ]
  },
  {
   "cell_type": "code",
   "execution_count": 17,
   "metadata": {},
   "outputs": [
    {
     "data": {
      "text/plain": [
       "<matplotlib.legend.Legend at 0x7f7420052f98>"
      ]
     },
     "execution_count": 17,
     "metadata": {},
     "output_type": "execute_result"
    },
    {
     "data": {
      "image/png": "[encoded data removed]",
      "text/plain": [
       "<Figure size 432x288 with 1 Axes>"
      ]
     },
     "metadata": {
      "needs_background": "light"
     },
     "output_type": "display_data"
    }
   ],
   "source": [
    "plt.plot(a10, label = 'Loss')\n",
    "plt.plot(l10, label = 'Accuracy')\n",
    "plt.legend()"
   ]
  },
  {
   "cell_type": "code",
   "execution_count": 19,
   "metadata": {},
   "outputs": [
    {
     "data": {
      "text/plain": [
       "<matplotlib.legend.Legend at 0x7f7409d92f98>"
      ]
     },
     "execution_count": 19,
     "metadata": {},
     "output_type": "execute_result"
    },
    {
     "data": {
      "image/png": "[encoded data removed]",
      "text/plain": [
       "<Figure size 432x288 with 1 Axes>"
      ]
     },
     "metadata": {
      "needs_background": "light"
     },
     "output_type": "display_data"
    }
   ],
   "source": [
    "plt.plot(a50[:35], label = 'Loss')\n",
    "plt.plot(l50[:35], label = 'Accuracy')\n",
    "plt.legend()"
   ]
  },
  {
   "cell_type": "code",
   "execution_count": 12,
   "metadata": {},
   "outputs": [
    {
     "data": {
      "text/plain": [
       "<matplotlib.legend.Legend at 0x7f6ebeeddc50>"
      ]
     },
     "execution_count": 12,
     "metadata": {},
     "output_type": "execute_result"
    },
    {
     "data": {
      "image/png": "[encoded data removed]",
      "text/plain": [
       "<Figure size 432x288 with 1 Axes>"
      ]
     },
     "metadata": {
      "needs_background": "light"
     },
     "output_type": "display_data"
    }
   ],
   "source": [
    "plt.plot(loss[:20], label = 'Loss')\n",
    "plt.plot(accuracy[:20], label = 'Accuracy')\n",
    "plt.legend()"
   ]
  },
  {
   "cell_type": "code",
   "execution_count": null,
   "metadata": {},
   "outputs": [],
   "source": []
  }
 ],
 "metadata": {
  "kernelspec": {
   "display_name": "Python 3",
   "language": "python",
   "name": "python3"
  },
  "language_info": {
   "codemirror_mode": {
    "name": "ipython",
    "version": 3
   },
   "file_extension": ".py",
   "mimetype": "text/x-python",
   "name": "python",
   "nbconvert_exporter": "python",
   "pygments_lexer": "ipython3",
   "version": "3.7.3"
  }
 },
 "nbformat": 4,
 "nbformat_minor": 2
}
